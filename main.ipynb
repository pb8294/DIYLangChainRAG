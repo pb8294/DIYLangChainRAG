{
 "cells": [
  {
   "cell_type": "code",
   "execution_count": null,
   "id": "f641b7f7",
   "metadata": {},
   "outputs": [],
   "source": [
    "import os\n",
    "import glob\n",
    "import gradio as gr\n",
    "\n",
    "from langchain.document_loaders import DirectoryLoader, TextLoader\n",
    "from langchain.text_splitter import CharacterTextSplitter\n",
    "from langchain.schema import Document\n",
    "from langchain_chroma import Chroma\n",
    "from langchain_openai import OpenAIEmbeddings, ChatOpenAI\n",
    "from langchain.memory import ConversationBufferMemory\n",
    "from langchain.chains import ConversationalRetrievalChain"
   ]
  },
  {
   "cell_type": "code",
   "execution_count": null,
   "id": "27e85815",
   "metadata": {},
   "outputs": [],
   "source": [
    "# Setup the GPT model you want to use (GPT-4o-mini is a cheap option)\n",
    "model = 'gpt-4o-mini'\n",
    "\n",
    "# Name of the database where the chunks of external documents are vectorized\n",
    "db_name = 'knowledge_database'\n",
    "\n",
    "# Enter your OPENAI_API_KEY as environment variable\n",
    "os.environ['OPENAI_API_KEY'] = \"YOUR_OPENAI_API_KEY\""
   ]
  },
  {
   "cell_type": "code",
   "execution_count": null,
   "id": "9b1518c9",
   "metadata": {},
   "outputs": [],
   "source": [
    "# Point to the `concepts` folder downloaded from the Google Drive\n",
    "folders = glob.glob(\"concepts/*\")\n",
    "documents = []\n",
    "\n",
    "# Goes through each folder and reads all the md files in it\n",
    "for folder in folders:\n",
    "    doc_type = os.path.basename(folder)\n",
    "    loader = DirectoryLoader(folder, glob=\"**/*.md\", loader_cls=TextLoader, loader_kwargs={\"encoding\": 'utf-8'})\n",
    "    folder_docs = loader.load()\n",
    "    for doc in folder_docs:\n",
    "        doc.metadata['doc_type'] = doc_type\n",
    "        documents.append(doc)"
   ]
  },
  {
   "cell_type": "code",
   "execution_count": null,
   "id": "bf84e53f",
   "metadata": {},
   "outputs": [],
   "source": [
    "# Split the documents into chunks\n",
    "text_splitter = CharacterTextSplitter(chunk_size=2000, chunk_overlap=400)\n",
    "chunks = text_splitter.split_documents(documents)"
   ]
  },
  {
   "cell_type": "code",
   "execution_count": null,
   "id": "2af994e9",
   "metadata": {},
   "outputs": [],
   "source": [
    "# Create a vector storage\n",
    "embeddings = OpenAIEmbeddings()\n",
    "if os.path.exists(db_name):\n",
    "    Chroma(persist_directory=db_name, embedding_function=embeddings).delete_collection()\n",
    "vectorstore = Chroma.from_documents(documents=chunks, embedding=embeddings, persist_directory=db_name)"
   ]
  },
  {
   "cell_type": "code",
   "execution_count": null,
   "id": "4b73c812",
   "metadata": {},
   "outputs": [],
   "source": [
    "# Create LLM, memory and retriever and start a conversation chain\n",
    "llm = ChatOpenAI(temperature=0.8, model_name=\"gpt-4o-mini\")\n",
    "memory = ConversationBufferMemory(memory_key=\"chat_history\", return_messages=True)\n",
    "retriever = vectorstore.as_retriever()\n",
    "conversation_chain = ConversationalRetrievalChain.from_llm(llm=llm, retriever=retriever, memory=memory)"
   ]
  },
  {
   "cell_type": "code",
   "execution_count": null,
   "id": "b614fd58",
   "metadata": {},
   "outputs": [],
   "source": [
    "# Define a chat function which Gradio will use to communicate with LLM\n",
    "def chat(message, history):\n",
    "    result = conversation_chain.invoke({\"question\": message})\n",
    "    return result[\"answer\"]"
   ]
  },
  {
   "cell_type": "code",
   "execution_count": null,
   "id": "fe7e218c",
   "metadata": {},
   "outputs": [],
   "source": [
    "# Start the chat interface\n",
    "view = gr.ChatInterface(chat, type=\"messages\").launch()"
   ]
  }
 ],
 "metadata": {
  "kernelspec": {
   "display_name": "llms",
   "language": "python",
   "name": "python3"
  },
  "language_info": {
   "codemirror_mode": {
    "name": "ipython",
    "version": 3
   },
   "file_extension": ".py",
   "mimetype": "text/x-python",
   "name": "python",
   "nbconvert_exporter": "python",
   "pygments_lexer": "ipython3",
   "version": "3.11.13"
  }
 },
 "nbformat": 4,
 "nbformat_minor": 5
}
